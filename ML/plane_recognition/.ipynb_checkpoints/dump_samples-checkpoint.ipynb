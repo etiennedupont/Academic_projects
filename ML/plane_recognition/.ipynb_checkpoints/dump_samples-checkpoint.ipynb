{
 "cells": [
  {
   "cell_type": "markdown",
   "metadata": {},
   "source": [
    "# Aircraft recognition using satellite images"
   ]
  },
  {
   "cell_type": "markdown",
   "metadata": {},
   "source": [
    "In this first notebook, we gather and explore raw data. Then we use sliding windows on our labelled data to create a set of labeled image samples."
   ]
  },
  {
   "cell_type": "code",
   "execution_count": 3,
   "metadata": {},
   "outputs": [],
   "source": [
    "import os\n",
    "import skimage\n",
    "import pandas as pd\n",
    "import numpy as np\n",
    "import skimage.exposure\n",
    "import skimage.io\n",
    "import scipy.stats\n",
    "import tqdm\n",
    "from matplotlib import pyplot as plt"
   ]
  },
  {
   "cell_type": "code",
   "execution_count": 2,
   "metadata": {},
   "outputs": [
    {
     "name": "stdout",
     "output_type": "stream",
     "text": [
      "env: TP_ISAE_DATA=./data/`\n",
      "[2018-11-13 08:11:25,385][tp-isae][get_data][INFO] Downloading training data\n",
      "[2018-11-13 08:11:25,388][tp-isae][get_data][INFO] Downloading data from tp_isae_train_data.tar.gz to ./data/`\n",
      "[2018-11-13 08:11:25,388][tp-isae][get_data][INFO] Downloading https://storage.googleapis.com/isae-deep-learning/tp_isae_train_data.tar.gz\n",
      "[2018-11-13 08:11:27,075][tp-isae][get_data][INFO] Extracting tar gz\n",
      "[2018-11-13 08:11:31,146][tp-isae][get_data][INFO] Done. Your training data is located here ./data/`/raw/trainval\n"
     ]
    }
   ],
   "source": [
    "import khumeia\n",
    "%env TP_ISAE_DATA= ./data/`\n",
    "khumeia.download_train_data()"
   ]
  },
  {
   "cell_type": "markdown",
   "metadata": {},
   "source": [
    "## Hands on data & framework"
   ]
  },
  {
   "cell_type": "markdown",
   "metadata": {},
   "source": [
    "## Explore data with pandas"
   ]
  },
  {
   "cell_type": "code",
   "execution_count": 4,
   "metadata": {},
   "outputs": [],
   "source": [
    "RAW_DATA_DIR = os.path.join(os.environ.get(\"TP_ISAE_DATA\"),\"raw\")\n",
    "image_ids = pd.read_csv(os.path.join(RAW_DATA_DIR, \"trainval_ids.csv\"))\n",
    "train_labels = pd.read_csv(os.path.join(RAW_DATA_DIR, \"trainval_labels.csv\"))"
   ]
  },
  {
   "cell_type": "markdown",
   "metadata": {},
   "source": [
    "'image_ids' contains the 25 unique image ids: there are 25 images with planes in them.\n",
    "'train_labels' contains image ids, size of the square containing a plane and coordinates (x,y) of vertice of the square"
   ]
  },
  {
   "cell_type": "code",
   "execution_count": 42,
   "metadata": {},
   "outputs": [
    {
     "name": "stdout",
     "output_type": "stream",
     "text": [
      "[2018-11-13 09:03:43,842][tp-isae][item][INFO] Looking in ./data/`/raw/trainval\n"
     ]
    }
   ],
   "source": [
    "from khumeia.data.item import SatelliteImage\n",
    "TRAINVAL_DATA_DIR = os.path.join(RAW_DATA_DIR, \"trainval\")\n",
    "trainval_satellite_images = SatelliteImage.list_items_from_path(TRAINVAL_DATA_DIR)\n",
    "trainval_collection = trainval_satellite_images[:2]"
   ]
  },
  {
   "cell_type": "markdown",
   "metadata": {},
   "source": [
    "### Data viz"
   ]
  },
  {
   "cell_type": "code",
   "execution_count": 19,
   "metadata": {},
   "outputs": [],
   "source": [
    "%matplotlib inline\n",
    "import khumeia.visualisation\n",
    "from matplotlib import pyplot as plt"
   ]
  },
  {
   "cell_type": "code",
   "execution_count": 22,
   "metadata": {},
   "outputs": [
    {
     "name": "stdout",
     "output_type": "stream",
     "text": [
      "{\n",
      "    \"label_file\": \"./data/`/raw/trainval/USGS_ATL.json\",\n",
      "    \"image_shape\": [\n",
      "        7852,\n",
      "        6689,\n",
      "        3\n",
      "    ],\n",
      "    \"nb_labels\": 35,\n",
      "    \"image_file\": \"./data/`/raw/trainval/USGS_ATL.jpg\",\n",
      "    \"image_id\": \"USGS_ATL\",\n",
      "    \"class\": \"SatelliteImage\"\n",
      "}\n"
     ]
    }
   ],
   "source": [
    "item = trainval_satellite_images[0]\n",
    "print(item)\n",
    "image = item.image\n",
    "labels = item.labels"
   ]
  },
  {
   "cell_type": "code",
   "execution_count": null,
   "metadata": {},
   "outputs": [],
   "source": [
    "image = khumeia.visualisation.draw_bboxes_on_image(image, labels, color=(0, 255, 0))\n",
    "plt.figure(figsize=(10,10))\n",
    "plt.title(item.image_id)\n",
    "plt.imshow(image)\n",
    "plt.show()"
   ]
  },
  {
   "cell_type": "markdown",
   "metadata": {},
   "source": [
    "## Generating training sets"
   ]
  },
  {
   "cell_type": "code",
   "execution_count": 24,
   "metadata": {},
   "outputs": [
    {
     "name": "stderr",
     "output_type": "stream",
     "text": [
      "/usr/local/lib/python3.5/dist-packages/tqdm/autonotebook/__init__.py:14: TqdmExperimentalWarning: Using `tqdm.autonotebook.tqdm` in notebook mode. Use `tqdm.tqdm` instead to force console mode (e.g. in jupyter console)\n",
      "  \" (e.g. in jupyter console)\", TqdmExperimentalWarning)\n"
     ]
    }
   ],
   "source": [
    "import json\n",
    "from khumeia.data.dataset import TilesDataset, SlidingWindow\n",
    "from khumeia.data.sampler import *"
   ]
  },
  {
   "cell_type": "code",
   "execution_count": 43,
   "metadata": {},
   "outputs": [],
   "source": [
    "dataset = TilesDataset(items=trainval_collection)"
   ]
  },
  {
   "cell_type": "markdown",
   "metadata": {},
   "source": [
    "### Using sliding windows"
   ]
  },
  {
   "cell_type": "code",
   "execution_count": 28,
   "metadata": {},
   "outputs": [],
   "source": [
    "from khumeia.utils import list_utils "
   ]
  },
  {
   "cell_type": "code",
   "execution_count": 44,
   "metadata": {},
   "outputs": [
    {
     "name": "stdout",
     "output_type": "stream",
     "text": [
      "[2018-11-13 09:04:58,400][tp-isae][dataset][INFO] Generating a pool of candidates tiles\n"
     ]
    },
    {
     "data": {
      "application/vnd.jupyter.widget-view+json": {
       "model_id": "7617ae91290a4f809df0e449f3c68c0c",
       "version_major": 2,
       "version_minor": 0
      },
      "text/plain": [
       "HBox(children=(IntProgress(value=0, description='Applying slider', max=1, style=ProgressStyle(description_widt…"
      ]
     },
     "metadata": {},
     "output_type": "display_data"
    },
    {
     "data": {
      "application/vnd.jupyter.widget-view+json": {
       "model_id": "89dc0302a06d4d23a455bf6088df846e",
       "version_major": 2,
       "version_minor": 0
      },
      "text/plain": [
       "HBox(children=(IntProgress(value=0, description='On item', max=2, style=ProgressStyle(description_width='initi…"
      ]
     },
     "metadata": {},
     "output_type": "display_data"
    },
    {
     "name": "stdout",
     "output_type": "stream",
     "text": [
      "[2018-11-13 09:05:00,530][tp-isae][dataset][INFO] Candidates tiles generated ! Now sample them using Dataset.sample_tiles_from_candidates\n"
     ]
    }
   ],
   "source": [
    "sliding_window = SlidingWindow(\n",
    "    tile_size=64,\n",
    "    stride=64,\n",
    "    discard_background=False,\n",
    "    padding=0,\n",
    "    label_assignment_mode=\"center\")\n",
    "\n",
    "dataset.generate_candidates_tiles(sliding_windows=sliding_window)"
   ]
  },
  {
   "cell_type": "markdown",
   "metadata": {},
   "source": [
    "This piece of code generated a mesh over the image on the basis of the characteristics of the sliding window we defined upon"
   ]
  },
  {
   "cell_type": "code",
   "execution_count": 45,
   "metadata": {},
   "outputs": [],
   "source": [
    "item = dataset.items[1]\n",
    "image = item.image\n",
    "labels = item.labels\n",
    "\n",
    "tiles = list_utils.filter_tiles_by_item(dataset.candidate_tiles, item)"
   ]
  },
  {
   "cell_type": "code",
   "execution_count": null,
   "metadata": {},
   "outputs": [],
   "source": [
    "aircrafts_tiles = list_utils.filter_tiles_by_label(tiles, \"aircraft\")\n",
    "background_tiles = list_utils.filter_tiles_by_label(tiles, \"background\")\n",
    "\n",
    "image = khumeia.visualisation.draw_bboxes_on_image(image, background_tiles, color=(255,0,0))\n",
    "image = khumeia.visualisation.draw_bboxes_on_image(image, aircrafts_tiles, color=(0,0,255))\n",
    "image = khumeia.visualisation.draw_bboxes_on_image(image, labels, color=(0,255,0))\n",
    "\n",
    "plt.figure(figsize=(10,10))\n",
    "plt.title(item.image_id)\n",
    "plt.imshow(image)\n",
    "plt.show()"
   ]
  },
  {
   "cell_type": "code",
   "execution_count": null,
   "metadata": {},
   "outputs": [],
   "source": [
    "# A demo with higher level functions in the framework\n",
    "item = dataset.items[0]\n",
    "tiles = dataset.candidate_tiles\n",
    "\n",
    "image = khumeia.visualisation.draw_item_with_tiles(item, tiles)\n",
    "plt.figure(figsize=(10,10))\n",
    "plt.title(item.image_id)\n",
    "plt.imshow(image)\n",
    "plt.show()"
   ]
  },
  {
   "cell_type": "markdown",
   "metadata": {},
   "source": [
    "### Selecting among candidate tiles"
   ]
  },
  {
   "cell_type": "code",
   "execution_count": 50,
   "metadata": {},
   "outputs": [
    {
     "name": "stdout",
     "output_type": "stream",
     "text": [
      "[2018-11-13 09:07:35,640][tp-isae][dataset][INFO] Sampling tiles\n"
     ]
    },
    {
     "data": {
      "application/vnd.jupyter.widget-view+json": {
       "model_id": "9b7c03dedae941b5b2b0b04b6f1b7c8d",
       "version_major": 2,
       "version_minor": 0
      },
      "text/plain": [
       "HBox(children=(IntProgress(value=0, description='Sampling tiles', max=1, style=ProgressStyle(description_width…"
      ]
     },
     "metadata": {},
     "output_type": "display_data"
    },
    {
     "name": "stdout",
     "output_type": "stream",
     "text": [
      "[2018-11-13 09:07:35,664][tp-isae][sampler][INFO] Sampling\n",
      "[2018-11-13 09:07:35,688][tp-isae][dataset][INFO] Tiles sampled, now generate the dataset using Dataset.generate_tiles_dataset\n"
     ]
    }
   ],
   "source": [
    "# Random sampling of 4000 tiles from our dataset\n",
    "sampler = RandomSampler(nb_tiles_max=4000, with_replacement=False)\n",
    "dataset.sample_tiles_from_candidates(tiles_samplers=sampler)"
   ]
  },
  {
   "cell_type": "markdown",
   "metadata": {},
   "source": [
    "### Dumping data"
   ]
  },
  {
   "cell_type": "code",
   "execution_count": 54,
   "metadata": {},
   "outputs": [
    {
     "name": "stdout",
     "output_type": "stream",
     "text": [
      "[2018-11-13 09:31:32,690][tp-isae][dataset][INFO] Generating a dataset of tiles at location ./data/`/dataset\n",
      "[2018-11-13 09:31:32,695][tp-isae][dataset][INFO] Dumping tiles to ./data/`/dataset\n"
     ]
    },
    {
     "data": {
      "application/vnd.jupyter.widget-view+json": {
       "model_id": "3a2421f8dcbc4d78b68136920155ea8d",
       "version_major": 2,
       "version_minor": 0
      },
      "text/plain": [
       "HBox(children=(IntProgress(value=0, description='Saving tiles to ./data/`/dataset', max=2, style=ProgressStyle…"
      ]
     },
     "metadata": {},
     "output_type": "display_data"
    }
   ],
   "source": [
    "# Now dump data to keras.ImageDataGenerator format\n",
    "\n",
    "dataset_dir = os.path.join(os.path.expandvars(\"$TP_ISAE_DATA\"), \"dataset\")\n",
    "\n",
    "## Uncomment to dump\n",
    "dataset.generate_tiles_dataset(output_dir=dataset_dir,remove_first=True)"
   ]
  }
 ],
 "metadata": {
  "kernelspec": {
   "display_name": "Python 3",
   "language": "python",
   "name": "python3"
  },
  "language_info": {
   "codemirror_mode": {
    "name": "ipython",
    "version": 3
   },
   "file_extension": ".py",
   "mimetype": "text/x-python",
   "name": "python",
   "nbconvert_exporter": "python",
   "pygments_lexer": "ipython3",
   "version": "3.6.6"
  }
 },
 "nbformat": 4,
 "nbformat_minor": 2
}
