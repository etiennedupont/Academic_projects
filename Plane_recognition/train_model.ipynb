{
 "cells": [
  {
   "cell_type": "markdown",
   "metadata": {},
   "source": [
    "# Applying 2D-CNN to our sample dataset "
   ]
  },
  {
   "cell_type": "markdown",
   "metadata": {},
   "source": [
    "## Dumped data directories"
   ]
  },
  {
   "cell_type": "code",
   "execution_count": 6,
   "metadata": {},
   "outputs": [
    {
     "name": "stdout",
     "output_type": "stream",
     "text": [
      "env: TP_ISAE_DATA=./data/`\n"
     ]
    }
   ],
   "source": [
    "import os, shutil\n",
    "%env TP_ISAE_DATA= ./data/`\n",
    "data_dir = os.path.join(os.environ.get(\"TP_ISAE_DATA\"),\"dataset\")\n",
    "aircraft_dir = os.path.join(data_dir,\"aircraft\")\n",
    "background_dir = os.path.join(data_dir,\"background\")"
   ]
  },
  {
   "cell_type": "markdown",
   "metadata": {},
   "source": [
    "### Some visualization"
   ]
  },
  {
   "cell_type": "code",
   "execution_count": 21,
   "metadata": {},
   "outputs": [
    {
     "name": "stdout",
     "output_type": "stream",
     "text": [
      "There are 10 planes\n",
      "Show plane #7 : \n"
     ]
    },
    {
     "data": {
      "image/png": "[encoded data removed]",
      "text/plain": [
       "<Figure size 432x288 with 1 Axes>"
      ]
     },
     "metadata": {},
     "output_type": "display_data"
    }
   ],
   "source": [
    "import matplotlib.pyplot as plt\n",
    "import matplotlib.image as mpimg\n",
    "import numpy as np\n",
    "\n",
    "#visualization of a plane sample randomly\n",
    "fnames = os.listdir(aircraft_dir)\n",
    "n_planes = len(fnames)\n",
    "print(\"There are {} planes\".format(n_planes))\n",
    "\n",
    "p = np.random.randint(0,n_planes-1)\n",
    "print(\"Show plane #{} : \".format(p))\n",
    "img = mpimg.imread(os.path.join(aircraft_dir,fnames[p]))\n",
    "imgplot = plt.imshow(img)"
   ]
  },
  {
   "cell_type": "markdown",
   "metadata": {},
   "source": [
    "## Creating a convolutional network"
   ]
  },
  {
   "cell_type": "code",
   "execution_count": 1,
   "metadata": {},
   "outputs": [
    {
     "name": "stderr",
     "output_type": "stream",
     "text": [
      "Using TensorFlow backend.\n"
     ]
    }
   ],
   "source": [
    "import keras\n",
    "from keras import layers\n",
    "from keras import models"
   ]
  },
  {
   "cell_type": "code",
   "execution_count": 2,
   "metadata": {},
   "outputs": [],
   "source": [
    "model = models.Sequential()\n",
    "model.add(layers.Conv2D(32, (3, 3), activation='relu',\n",
    "                        input_shape=(150, 150, 3)))\n",
    "model.add(layers.MaxPooling2D((2, 2)))\n",
    "model.add(layers.Conv2D(64, (3, 3), activation='relu'))\n",
    "model.add(layers.MaxPooling2D((2, 2)))\n",
    "model.add(layers.Conv2D(128, (3, 3), activation='relu'))\n",
    "model.add(layers.MaxPooling2D((2, 2)))\n",
    "model.add(layers.Conv2D(128, (3, 3), activation='relu'))\n",
    "model.add(layers.MaxPooling2D((2, 2)))\n",
    "model.add(layers.Flatten())\n",
    "model.add(layers.Dense(512, activation='relu'))\n",
    "model.add(layers.Dense(1, activation='sigmoid'))"
   ]
  },
  {
   "cell_type": "code",
   "execution_count": 3,
   "metadata": {},
   "outputs": [],
   "source": [
    "from keras import optimizers\n",
    "\n",
    "model.compile(loss='binary_crossentropy',\n",
    "              optimizer=optimizers.RMSprop(lr=1e-4),\n",
    "              metrics=['acc'])"
   ]
  },
  {
   "cell_type": "markdown",
   "metadata": {},
   "source": [
    "### Data preprocessing"
   ]
  },
  {
   "cell_type": "code",
   "execution_count": 9,
   "metadata": {},
   "outputs": [
    {
     "name": "stdout",
     "output_type": "stream",
     "text": [
      "Found 4000 images belonging to 2 classes.\n"
     ]
    }
   ],
   "source": [
    "from keras.preprocessing.image import ImageDataGenerator\n",
    "\n",
    "# All images will be rescaled by 1./255\n",
    "train_datagen = ImageDataGenerator(rescale=1./255)\n",
    "\n",
    "train_generator = train_datagen.flow_from_directory(\n",
    "        # This is the target directory\n",
    "        train_dir,\n",
    "        # All images will be resized to 150x150\n",
    "        target_size=(64, 64),\n",
    "        batch_size=20,\n",
    "        # Since we use binary_crossentropy loss, we need binary labels\n",
    "        class_mode='binary')\n"
   ]
  },
  {
   "cell_type": "markdown",
   "metadata": {},
   "source": [
    "### Running the model"
   ]
  },
  {
   "cell_type": "code",
   "execution_count": 10,
   "metadata": {},
   "outputs": [
    {
     "name": "stdout",
     "output_type": "stream",
     "text": [
      "Epoch 1/30\n",
      "100/100 [==============================] - 12s 124ms/step - loss: 0.0443 - acc: 0.9985 - val_loss: 0.0319 - val_acc: 0.9980\n",
      "Epoch 2/30\n",
      "100/100 [==============================] - 5s 47ms/step - loss: 0.0558 - acc: 0.9965 - val_loss: 0.0319 - val_acc: 0.9980\n",
      "Epoch 3/30\n",
      "100/100 [==============================] - 5s 47ms/step - loss: 0.0558 - acc: 0.9965 - val_loss: 0.0159 - val_acc: 0.9990\n",
      "Epoch 4/30\n",
      "100/100 [==============================] - 5s 47ms/step - loss: 0.0159 - acc: 0.9990 - val_loss: 0.0957 - val_acc: 0.9940\n",
      "Epoch 5/30\n",
      "100/100 [==============================] - 5s 47ms/step - loss: 0.0319 - acc: 0.9980 - val_loss: 0.0319 - val_acc: 0.9980\n",
      "Epoch 6/30\n",
      "100/100 [==============================] - 5s 47ms/step - loss: 0.0717 - acc: 0.9955 - val_loss: 1.1921e-07 - val_acc: 1.0000\n",
      "Epoch 7/30\n",
      "100/100 [==============================] - 5s 47ms/step - loss: 0.0399 - acc: 0.9975 - val_loss: 0.0797 - val_acc: 0.9950\n",
      "Epoch 8/30\n",
      "100/100 [==============================] - 5s 47ms/step - loss: 0.0239 - acc: 0.9985 - val_loss: 0.0478 - val_acc: 0.9970\n",
      "Epoch 9/30\n",
      "100/100 [==============================] - 5s 47ms/step - loss: 0.0319 - acc: 0.9980 - val_loss: 0.0478 - val_acc: 0.9970\n",
      "Epoch 10/30\n",
      "100/100 [==============================] - 5s 47ms/step - loss: 0.0319 - acc: 0.9980 - val_loss: 0.0638 - val_acc: 0.9960\n",
      "Epoch 11/30\n",
      "100/100 [==============================] - 5s 47ms/step - loss: 0.0319 - acc: 0.9980 - val_loss: 0.0478 - val_acc: 0.9970\n",
      "Epoch 12/30\n",
      "100/100 [==============================] - 5s 47ms/step - loss: 0.0478 - acc: 0.9970 - val_loss: 0.0159 - val_acc: 0.9990\n",
      "Epoch 13/30\n",
      "100/100 [==============================] - 5s 47ms/step - loss: 0.0319 - acc: 0.9980 - val_loss: 0.0638 - val_acc: 0.9960\n",
      "Epoch 14/30\n",
      "100/100 [==============================] - 5s 47ms/step - loss: 0.0239 - acc: 0.9985 - val_loss: 0.0319 - val_acc: 0.9980\n",
      "Epoch 15/30\n",
      "100/100 [==============================] - 5s 47ms/step - loss: 0.0558 - acc: 0.9965 - val_loss: 0.0159 - val_acc: 0.9990\n",
      "Epoch 16/30\n",
      "100/100 [==============================] - 5s 47ms/step - loss: 0.0478 - acc: 0.9970 - val_loss: 0.0797 - val_acc: 0.9950\n",
      "Epoch 17/30\n",
      "100/100 [==============================] - 5s 47ms/step - loss: 0.0319 - acc: 0.9980 - val_loss: 0.0159 - val_acc: 0.9990\n",
      "Epoch 18/30\n",
      "100/100 [==============================] - 5s 47ms/step - loss: 0.0558 - acc: 0.9965 - val_loss: 0.0319 - val_acc: 0.9980\n",
      "Epoch 19/30\n",
      "100/100 [==============================] - 5s 47ms/step - loss: 0.0319 - acc: 0.9980 - val_loss: 0.0638 - val_acc: 0.9960\n",
      "Epoch 20/30\n",
      "100/100 [==============================] - 5s 47ms/step - loss: 0.0399 - acc: 0.9975 - val_loss: 0.0319 - val_acc: 0.9980\n",
      "Epoch 21/30\n",
      "100/100 [==============================] - 5s 47ms/step - loss: 0.0399 - acc: 0.9975 - val_loss: 0.0478 - val_acc: 0.9970\n",
      "Epoch 22/30\n",
      "100/100 [==============================] - 5s 47ms/step - loss: 0.0319 - acc: 0.9980 - val_loss: 0.0638 - val_acc: 0.9960\n",
      "Epoch 23/30\n",
      "100/100 [==============================] - 5s 47ms/step - loss: 0.0159 - acc: 0.9990 - val_loss: 0.0319 - val_acc: 0.9980\n",
      "Epoch 24/30\n",
      "100/100 [==============================] - 5s 47ms/step - loss: 0.0558 - acc: 0.9965 - val_loss: 0.0319 - val_acc: 0.9980\n",
      "Epoch 25/30\n",
      "100/100 [==============================] - 5s 47ms/step - loss: 0.0638 - acc: 0.9960 - val_loss: 0.0159 - val_acc: 0.9990\n",
      "Epoch 26/30\n",
      "100/100 [==============================] - 5s 47ms/step - loss: 0.0319 - acc: 0.9980 - val_loss: 0.0319 - val_acc: 0.9980\n",
      "Epoch 27/30\n",
      "100/100 [==============================] - 5s 47ms/step - loss: 0.0478 - acc: 0.9970 - val_loss: 0.0319 - val_acc: 0.9980\n",
      "Epoch 28/30\n",
      "100/100 [==============================] - 5s 47ms/step - loss: 0.0399 - acc: 0.9975 - val_loss: 0.0319 - val_acc: 0.9980\n",
      "Epoch 29/30\n",
      "100/100 [==============================] - 5s 47ms/step - loss: 0.0319 - acc: 0.9980 - val_loss: 0.0159 - val_acc: 0.9990\n",
      "Epoch 30/30\n",
      "100/100 [==============================] - 5s 47ms/step - loss: 0.0478 - acc: 0.9970 - val_loss: 0.0319 - val_acc: 0.9980\n"
     ]
    }
   ],
   "source": [
    "history = model.fit_generator(\n",
    "      train_generator,\n",
    "      steps_per_epoch=100,\n",
    "      epochs=30,\n",
    "      validation_data=train_generator,\n",
    "      validation_steps=50)"
   ]
  },
  {
   "cell_type": "code",
   "execution_count": null,
   "metadata": {},
   "outputs": [],
   "source": [
    "model.save(aircraft_background.h5)"
   ]
  },
  {
   "cell_type": "code",
   "execution_count": null,
   "metadata": {},
   "outputs": [],
   "source": []
  }
 ],
 "metadata": {
  "kernelspec": {
   "display_name": "Python 3",
   "language": "python",
   "name": "python3"
  },
  "language_info": {
   "codemirror_mode": {
    "name": "ipython",
    "version": 3
   },
   "file_extension": ".py",
   "mimetype": "text/x-python",
   "name": "python",
   "nbconvert_exporter": "python",
   "pygments_lexer": "ipython3",
   "version": "3.6.6"
  }
 },
 "nbformat": 4,
 "nbformat_minor": 2
}
